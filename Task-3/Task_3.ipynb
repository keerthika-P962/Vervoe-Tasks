{
  "nbformat": 4,
  "nbformat_minor": 0,
  "metadata": {
    "colab": {
      "provenance": []
    },
    "kernelspec": {
      "name": "python3",
      "display_name": "Python 3"
    },
    "language_info": {
      "name": "python"
    }
  },
  "cells": [
    {
      "cell_type": "markdown",
      "source": [
        "**Q1: Write a Python function that accepts a list of numbers and returns a new list containing only the even numbers.**\n",
        "\n",
        "A function is a reusable block of code that performs a specific task.\n",
        "\n",
        "> The function should iterate through the given list and check if each number is even.\n",
        "\n",
        "> Even numbers are divisible by 2 (i.e., num % 2 == 0)."
      ],
      "metadata": {
        "id": "qfpEK8Nnbsqd"
      }
    },
    {
      "cell_type": "code",
      "execution_count": 1,
      "metadata": {
        "colab": {
          "base_uri": "https://localhost:8080/"
        },
        "id": "y587r7fabrxO",
        "outputId": "3eef1ab6-b8b4-4f00-9a9f-0075efd5cd01"
      },
      "outputs": [
        {
          "output_type": "stream",
          "name": "stdout",
          "text": [
            "[2, 4, 6, 8, 10]\n"
          ]
        }
      ],
      "source": [
        "def filter_even_numbers(numbers):\n",
        "    \"\"\"Returns a list of even numbers from the input list.\"\"\"\n",
        "    return [num for num in numbers if num % 2 == 0]\n",
        "\n",
        "# Example usage\n",
        "numbers = [1, 2, 3, 4, 5, 6, 7, 8, 9, 10]\n",
        "even_numbers = filter_even_numbers(numbers)\n",
        "print(even_numbers)\n"
      ]
    },
    {
      "cell_type": "markdown",
      "source": [
        "**Q2: Given a DataFrame named df with columns id, age, and score, write a Pandas script to filter the DataFrame to only include rows where age is greater than 25 and score is above 80.**\n",
        "\n",
        "> Filtering in Pandas is done using Boolean conditions.\n",
        "\n",
        "> We use logical operators (& for AND, | for OR) to filter rows."
      ],
      "metadata": {
        "id": "SMc3RrWTcCzf"
      }
    },
    {
      "cell_type": "code",
      "source": [
        "import pandas as pd\n",
        "\n",
        "# Sample DataFrame\n",
        "data = {'id': [1, 2, 3, 4, 5],\n",
        "        'age': [22, 30, 40, 24, 35],\n",
        "        'score': [85, 75, 90, 95, 78]}\n",
        "\n",
        "df = pd.DataFrame(data)\n",
        "\n",
        "# Filtering condition: age > 25 and score > 80\n",
        "filtered_df = df[(df['age'] > 25) & (df['score'] > 80)]\n",
        "\n",
        "print(filtered_df)\n"
      ],
      "metadata": {
        "colab": {
          "base_uri": "https://localhost:8080/"
        },
        "id": "4ZzLERQbcLha",
        "outputId": "7d4e8f12-5141-4c10-d1e7-c255e58d6518"
      },
      "execution_count": 2,
      "outputs": [
        {
          "output_type": "stream",
          "name": "stdout",
          "text": [
            "   id  age  score\n",
            "2   3   40     90\n"
          ]
        }
      ]
    },
    {
      "cell_type": "markdown",
      "source": [
        "**Q3: Explain how you would handle missing values in a DataFrame.**\n",
        "\n",
        "> Missing values occur when some data points are unavailable.\n",
        "\n",
        "> In Pandas, missing values are represented as NaN (Not a Number).\n",
        "\n",
        "> Common methods to handle missing values:\n",
        "\n",
        "1. Removing Missing Values: df.dropna() removes rows with NaN.\n",
        "\n",
        "2. Filling Missing Values:\n",
        "\n",
        "> df.fillna(value) replaces NaN with a specific value.\n",
        "\n",
        "> df.fillna(df.mean()) replaces NaN with the column's mean (useful for numerical data).\n",
        "\n",
        "> Forward Fill (ffill) and Backward Fill (bfill):\n",
        "\n",
        "> df.fillna(method='ffill') propagates the last valid value forward.\n",
        "\n",
        "> df.fillna(method='bfill') propagates the next valid value backward."
      ],
      "metadata": {
        "id": "rYsJbk8acSpY"
      }
    },
    {
      "cell_type": "code",
      "source": [
        "import pandas as pd\n",
        "import numpy as np\n",
        "\n",
        "# Sample DataFrame with missing values\n",
        "data = {'id': [1, 2, 3, 4, 5],\n",
        "        'age': [25, np.nan, 30, np.nan, 40],\n",
        "        'score': [85, 90, np.nan, 75, 95]}\n",
        "\n",
        "df = pd.DataFrame(data)\n",
        "\n",
        "# Handling missing values\n",
        "df_filled = df.fillna(df.mean())  # Replace NaN with column mean\n",
        "print(df_filled)\n"
      ],
      "metadata": {
        "colab": {
          "base_uri": "https://localhost:8080/"
        },
        "id": "4v9smjMKcSMB",
        "outputId": "0d1333b6-488b-485b-83e9-ea882e8e953d"
      },
      "execution_count": 3,
      "outputs": [
        {
          "output_type": "stream",
          "name": "stdout",
          "text": [
            "   id        age  score\n",
            "0   1  25.000000  85.00\n",
            "1   2  31.666667  90.00\n",
            "2   3  30.000000  86.25\n",
            "3   4  31.666667  75.00\n",
            "4   5  40.000000  95.00\n"
          ]
        }
      ]
    },
    {
      "cell_type": "markdown",
      "source": [
        "**Q4: Write a Pandas command to group a DataFrame df containing sales data with columns date, region, and sales, to show total sales by region.**\n",
        "\n",
        "> Grouping in Pandas is done using groupby().\n",
        "\n",
        "> We can sum up sales for each region using .sum()."
      ],
      "metadata": {
        "id": "It78UppGcvSD"
      }
    },
    {
      "cell_type": "code",
      "source": [
        "import pandas as pd\n",
        "\n",
        "# Sample sales data\n",
        "data = {'date': ['2025-03-01', '2025-03-02', '2025-03-03', '2025-03-04'],\n",
        "        'region': ['North', 'South', 'North', 'South'],\n",
        "        'sales': [200, 150, 300, 100]}\n",
        "\n",
        "df = pd.DataFrame(data)\n",
        "\n",
        "# Grouping by region and summing up sales\n",
        "sales_by_region = df.groupby('region')['sales'].sum().reset_index()\n",
        "\n",
        "print(sales_by_region)\n"
      ],
      "metadata": {
        "colab": {
          "base_uri": "https://localhost:8080/"
        },
        "id": "Ypvs2ps1c5C-",
        "outputId": "602042a6-ec21-4a20-ad02-3f9345b8d111"
      },
      "execution_count": 4,
      "outputs": [
        {
          "output_type": "stream",
          "name": "stdout",
          "text": [
            "  region  sales\n",
            "0  North    500\n",
            "1  South    250\n"
          ]
        }
      ]
    },
    {
      "cell_type": "markdown",
      "source": [
        "**Q5: Using a DataFrame df with columns customer_id, purchase_amount, and date_of_purchase, write a Pandas script to add a new column showing the cumulative purchase amount for each customer.**\n",
        "\n",
        "> The cumulative sum of a column is calculated using .cumsum().\n",
        "\n",
        "> To calculate it per customer, we use groupby()."
      ],
      "metadata": {
        "id": "WIwpDaxxc_t3"
      }
    },
    {
      "cell_type": "code",
      "source": [
        "import pandas as pd\n",
        "\n",
        "# Sample DataFrame\n",
        "data = {'customer_id': [101, 101, 102, 102, 101, 103],\n",
        "        'purchase_amount': [100, 200, 150, 300, 50, 400],\n",
        "        'date_of_purchase': ['2025-01-01', '2025-01-02', '2025-01-03',\n",
        "                             '2025-01-04', '2025-01-05', '2025-01-06']}\n",
        "\n",
        "df = pd.DataFrame(data)\n",
        "\n",
        "# Cumulative sum per customer\n",
        "df['cumulative_purchase'] = df.groupby('customer_id')['purchase_amount'].cumsum()\n",
        "\n",
        "print(df)\n"
      ],
      "metadata": {
        "colab": {
          "base_uri": "https://localhost:8080/"
        },
        "id": "gvyLDkUodFJN",
        "outputId": "91d564e4-4647-4317-c218-62a8f0a24a6b"
      },
      "execution_count": 5,
      "outputs": [
        {
          "output_type": "stream",
          "name": "stdout",
          "text": [
            "   customer_id  purchase_amount date_of_purchase  cumulative_purchase\n",
            "0          101              100       2025-01-01                  100\n",
            "1          101              200       2025-01-02                  300\n",
            "2          102              150       2025-01-03                  150\n",
            "3          102              300       2025-01-04                  450\n",
            "4          101               50       2025-01-05                  350\n",
            "5          103              400       2025-01-06                  400\n"
          ]
        }
      ]
    },
    {
      "cell_type": "markdown",
      "source": [
        "**Q6: Describe a scenario where merging two DataFrames in Pandas would be useful. Provide an example command that merges two DataFrames on a common column called customer_id.**\n",
        "\n",
        "> Merging is used to combine data from multiple sources.\n",
        "\n",
        "> Example: If one DataFrame has customer details and another has purchase records, merging helps in getting complete customer transaction history.\n",
        "\n",
        "> Pandas provides merge() function for this."
      ],
      "metadata": {
        "id": "dAMhYLFKdRBp"
      }
    },
    {
      "cell_type": "code",
      "source": [
        "import pandas as pd\n",
        "\n",
        "# Customer details DataFrame\n",
        "customers = pd.DataFrame({'customer_id': [101, 102, 103],\n",
        "                          'name': ['Alice', 'Bob', 'Charlie'],\n",
        "                          'age': [25, 30, 35]})\n",
        "\n",
        "# Purchases DataFrame\n",
        "purchases = pd.DataFrame({'customer_id': [101, 102, 101, 103],\n",
        "                          'purchase_amount': [200, 150, 50, 400]})\n",
        "\n",
        "# Merging DataFrames on 'customer_id'\n",
        "merged_df = pd.merge(customers, purchases, on='customer_id', how='inner')\n",
        "\n",
        "print(merged_df)\n"
      ],
      "metadata": {
        "colab": {
          "base_uri": "https://localhost:8080/"
        },
        "id": "kxFCr3KXdQNo",
        "outputId": "19ccc107-b65e-400f-855f-c02992400fc9"
      },
      "execution_count": 6,
      "outputs": [
        {
          "output_type": "stream",
          "name": "stdout",
          "text": [
            "   customer_id     name  age  purchase_amount\n",
            "0          101    Alice   25              200\n",
            "1          101    Alice   25               50\n",
            "2          102      Bob   30              150\n",
            "3          103  Charlie   35              400\n"
          ]
        }
      ]
    }
  ]
}